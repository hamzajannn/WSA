{
  "nbformat": 4,
  "nbformat_minor": 0,
  "metadata": {
    "colab": {
      "name": "Assessment#1_heatmap.ipynb",
      "provenance": [],
      "collapsed_sections": []
    },
    "kernelspec": {
      "name": "python3",
      "display_name": "Python 3"
    },
    "language_info": {
      "name": "python"
    }
  },
  "cells": [
    {
      "cell_type": "code",
      "execution_count": null,
      "metadata": {
        "colab": {
          "base_uri": "https://localhost:8080/"
        },
        "id": "-vF_9bEkKlQF",
        "outputId": "38e981d3-8064-46d8-de8a-2397288f11fb"
      },
      "outputs": [
        {
          "output_type": "stream",
          "name": "stdout",
          "text": [
            "Requirement already satisfied: seaborn in /usr/local/lib/python3.7/dist-packages (0.11.2)\n",
            "Requirement already satisfied: pandas>=0.23 in /usr/local/lib/python3.7/dist-packages (from seaborn) (1.3.5)\n",
            "Requirement already satisfied: matplotlib>=2.2 in /usr/local/lib/python3.7/dist-packages (from seaborn) (3.2.2)\n",
            "Requirement already satisfied: numpy>=1.15 in /usr/local/lib/python3.7/dist-packages (from seaborn) (1.21.5)\n",
            "Requirement already satisfied: scipy>=1.0 in /usr/local/lib/python3.7/dist-packages (from seaborn) (1.4.1)\n",
            "Requirement already satisfied: kiwisolver>=1.0.1 in /usr/local/lib/python3.7/dist-packages (from matplotlib>=2.2->seaborn) (1.4.0)\n",
            "Requirement already satisfied: python-dateutil>=2.1 in /usr/local/lib/python3.7/dist-packages (from matplotlib>=2.2->seaborn) (2.8.2)\n",
            "Requirement already satisfied: cycler>=0.10 in /usr/local/lib/python3.7/dist-packages (from matplotlib>=2.2->seaborn) (0.11.0)\n",
            "Requirement already satisfied: pyparsing!=2.0.4,!=2.1.2,!=2.1.6,>=2.0.1 in /usr/local/lib/python3.7/dist-packages (from matplotlib>=2.2->seaborn) (3.0.7)\n",
            "Requirement already satisfied: typing-extensions in /usr/local/lib/python3.7/dist-packages (from kiwisolver>=1.0.1->matplotlib>=2.2->seaborn) (3.10.0.2)\n",
            "Requirement already satisfied: pytz>=2017.3 in /usr/local/lib/python3.7/dist-packages (from pandas>=0.23->seaborn) (2018.9)\n",
            "Requirement already satisfied: six>=1.5 in /usr/local/lib/python3.7/dist-packages (from python-dateutil>=2.1->matplotlib>=2.2->seaborn) (1.15.0)\n"
          ]
        }
      ],
      "source": [
        "pip install seaborn\n"
      ]
    },
    {
      "cell_type": "code",
      "source": [
        "pip install plotly\n"
      ],
      "metadata": {
        "colab": {
          "base_uri": "https://localhost:8080/"
        },
        "id": "WA86nDliLY8J",
        "outputId": "9e51855a-9c63-49dc-b0ae-2a0d5a7ac6a8"
      },
      "execution_count": null,
      "outputs": [
        {
          "output_type": "stream",
          "name": "stdout",
          "text": [
            "Requirement already satisfied: plotly in /usr/local/lib/python3.7/dist-packages (5.5.0)\n",
            "Requirement already satisfied: six in /usr/local/lib/python3.7/dist-packages (from plotly) (1.15.0)\n",
            "Requirement already satisfied: tenacity>=6.2.0 in /usr/local/lib/python3.7/dist-packages (from plotly) (8.0.1)\n"
          ]
        }
      ]
    },
    {
      "cell_type": "code",
      "source": [
        "pip install gmplot\n"
      ],
      "metadata": {
        "colab": {
          "base_uri": "https://localhost:8080/"
        },
        "id": "RFvYsDc7Ld5M",
        "outputId": "4fad4f4e-444d-45e4-9a0a-f482544f6c5d"
      },
      "execution_count": null,
      "outputs": [
        {
          "output_type": "stream",
          "name": "stdout",
          "text": [
            "Collecting gmplot\n",
            "  Downloading gmplot-1.4.1-py3-none-any.whl (164 kB)\n",
            "\u001b[?25l\r\u001b[K     |██                              | 10 kB 20.0 MB/s eta 0:00:01\r\u001b[K     |████                            | 20 kB 23.9 MB/s eta 0:00:01\r\u001b[K     |██████                          | 30 kB 20.1 MB/s eta 0:00:01\r\u001b[K     |████████                        | 40 kB 14.4 MB/s eta 0:00:01\r\u001b[K     |██████████                      | 51 kB 10.8 MB/s eta 0:00:01\r\u001b[K     |████████████                    | 61 kB 12.6 MB/s eta 0:00:01\r\u001b[K     |██████████████                  | 71 kB 13.7 MB/s eta 0:00:01\r\u001b[K     |████████████████                | 81 kB 13.9 MB/s eta 0:00:01\r\u001b[K     |██████████████████              | 92 kB 15.3 MB/s eta 0:00:01\r\u001b[K     |████████████████████            | 102 kB 13.1 MB/s eta 0:00:01\r\u001b[K     |█████████████████████▉          | 112 kB 13.1 MB/s eta 0:00:01\r\u001b[K     |███████████████████████▉        | 122 kB 13.1 MB/s eta 0:00:01\r\u001b[K     |█████████████████████████▉      | 133 kB 13.1 MB/s eta 0:00:01\r\u001b[K     |███████████████████████████▉    | 143 kB 13.1 MB/s eta 0:00:01\r\u001b[K     |█████████████████████████████▉  | 153 kB 13.1 MB/s eta 0:00:01\r\u001b[K     |███████████████████████████████▉| 163 kB 13.1 MB/s eta 0:00:01\r\u001b[K     |████████████████████████████████| 164 kB 13.1 MB/s \n",
            "\u001b[?25hRequirement already satisfied: requests in /usr/local/lib/python3.7/dist-packages (from gmplot) (2.23.0)\n",
            "Requirement already satisfied: certifi>=2017.4.17 in /usr/local/lib/python3.7/dist-packages (from requests->gmplot) (2021.10.8)\n",
            "Requirement already satisfied: chardet<4,>=3.0.2 in /usr/local/lib/python3.7/dist-packages (from requests->gmplot) (3.0.4)\n",
            "Requirement already satisfied: urllib3!=1.25.0,!=1.25.1,<1.26,>=1.21.1 in /usr/local/lib/python3.7/dist-packages (from requests->gmplot) (1.24.3)\n",
            "Requirement already satisfied: idna<3,>=2.5 in /usr/local/lib/python3.7/dist-packages (from requests->gmplot) (2.10)\n",
            "Installing collected packages: gmplot\n",
            "Successfully installed gmplot-1.4.1\n"
          ]
        }
      ]
    },
    {
      "cell_type": "code",
      "source": [
        "from re import S\n",
        "import numpy as np\n",
        "import pandas as pd\n",
        "import matplotlib.pyplot as plt\n",
        "import seaborn as sns\n",
        "\n",
        "sns.set_theme(style=\"darkgrid\")\n"
      ],
      "metadata": {
        "id": "rtdkNzKULikZ"
      },
      "execution_count": null,
      "outputs": []
    },
    {
      "cell_type": "code",
      "source": [
        "pip install geocoder"
      ],
      "metadata": {
        "colab": {
          "base_uri": "https://localhost:8080/"
        },
        "id": "_GZKbM2QMjY4",
        "outputId": "50844062-4efd-43b3-ed3f-b16fbfea5692"
      },
      "execution_count": null,
      "outputs": [
        {
          "output_type": "stream",
          "name": "stdout",
          "text": [
            "Collecting geocoder\n",
            "  Downloading geocoder-1.38.1-py2.py3-none-any.whl (98 kB)\n",
            "\u001b[?25l\r\u001b[K     |███▎                            | 10 kB 30.9 MB/s eta 0:00:01\r\u001b[K     |██████▋                         | 20 kB 30.6 MB/s eta 0:00:01\r\u001b[K     |██████████                      | 30 kB 34.3 MB/s eta 0:00:01\r\u001b[K     |█████████████▎                  | 40 kB 16.5 MB/s eta 0:00:01\r\u001b[K     |████████████████▋               | 51 kB 13.8 MB/s eta 0:00:01\r\u001b[K     |████████████████████            | 61 kB 16.1 MB/s eta 0:00:01\r\u001b[K     |███████████████████████▎        | 71 kB 13.3 MB/s eta 0:00:01\r\u001b[K     |██████████████████████████▋     | 81 kB 14.7 MB/s eta 0:00:01\r\u001b[K     |██████████████████████████████  | 92 kB 16.2 MB/s eta 0:00:01\r\u001b[K     |████████████████████████████████| 98 kB 5.8 MB/s \n",
            "\u001b[?25hRequirement already satisfied: future in /usr/local/lib/python3.7/dist-packages (from geocoder) (0.16.0)\n",
            "Requirement already satisfied: six in /usr/local/lib/python3.7/dist-packages (from geocoder) (1.15.0)\n",
            "Requirement already satisfied: click in /usr/local/lib/python3.7/dist-packages (from geocoder) (7.1.2)\n",
            "Requirement already satisfied: requests in /usr/local/lib/python3.7/dist-packages (from geocoder) (2.23.0)\n",
            "Collecting ratelim\n",
            "  Downloading ratelim-0.1.6-py2.py3-none-any.whl (4.0 kB)\n",
            "Requirement already satisfied: decorator in /usr/local/lib/python3.7/dist-packages (from ratelim->geocoder) (4.4.2)\n",
            "Requirement already satisfied: urllib3!=1.25.0,!=1.25.1,<1.26,>=1.21.1 in /usr/local/lib/python3.7/dist-packages (from requests->geocoder) (1.24.3)\n",
            "Requirement already satisfied: chardet<4,>=3.0.2 in /usr/local/lib/python3.7/dist-packages (from requests->geocoder) (3.0.4)\n",
            "Requirement already satisfied: idna<3,>=2.5 in /usr/local/lib/python3.7/dist-packages (from requests->geocoder) (2.10)\n",
            "Requirement already satisfied: certifi>=2017.4.17 in /usr/local/lib/python3.7/dist-packages (from requests->geocoder) (2021.10.8)\n",
            "Installing collected packages: ratelim, geocoder\n",
            "Successfully installed geocoder-1.38.1 ratelim-0.1.6\n"
          ]
        }
      ]
    },
    {
      "cell_type": "code",
      "source": [
        "import gmplot\n",
        "import webbrowser\n",
        "import geocoder\n",
        "import numpy as np\n",
        "import pandas as pd\n",
        "from IPython.display import HTML, display\n",
        "\n",
        "# browser= webbrowser.get(using='Google Chrome')"
      ],
      "metadata": {
        "id": "Mx3gQVLdb9uQ"
      },
      "execution_count": null,
      "outputs": []
    },
    {
      "cell_type": "code",
      "source": [
        "data_oscars=pd.read_csv('oscar_latest.csv')\n",
        "data_oscars.sort_values(by='Favourites',inplace=True,ascending=False)\n",
        "data_oscars.dropna(axis = 0, how ='any', thresh = None, subset = None, inplace=True)\n",
        "df_new = data_oscars[['Location']]\n",
        "display(df_new.head(500))"
      ],
      "metadata": {
        "colab": {
          "base_uri": "https://localhost:8080/",
          "height": 655
        },
        "id": "4EaZMmRWOA1S",
        "outputId": "53785407-910d-42e5-c3de-8b70cd47f536"
      },
      "execution_count": null,
      "outputs": [
        {
          "output_type": "display_data",
          "data": {
            "text/plain": [
              "                           Location\n",
              "2092                  NW MO ➡️ NoVA\n",
              "2446                  NW MO ➡️ NoVA\n",
              "941             Baltimore, Maryland\n",
              "2146                          Texas\n",
              "1322  Aiken, South Carolina, U.S.A.\n",
              "...                             ...\n",
              "1054                  In the clouds\n",
              "727         they/she • 21 • charlie\n",
              "829                     Cosmopolita\n",
              "1976                        Brasil \n",
              "1967                      Omaha, NE\n",
              "\n",
              "[500 rows x 1 columns]"
            ],
            "text/html": [
              "\n",
              "  <div id=\"df-f04dd507-1f16-4823-b77d-8155a60977c2\">\n",
              "    <div class=\"colab-df-container\">\n",
              "      <div>\n",
              "<style scoped>\n",
              "    .dataframe tbody tr th:only-of-type {\n",
              "        vertical-align: middle;\n",
              "    }\n",
              "\n",
              "    .dataframe tbody tr th {\n",
              "        vertical-align: top;\n",
              "    }\n",
              "\n",
              "    .dataframe thead th {\n",
              "        text-align: right;\n",
              "    }\n",
              "</style>\n",
              "<table border=\"1\" class=\"dataframe\">\n",
              "  <thead>\n",
              "    <tr style=\"text-align: right;\">\n",
              "      <th></th>\n",
              "      <th>Location</th>\n",
              "    </tr>\n",
              "  </thead>\n",
              "  <tbody>\n",
              "    <tr>\n",
              "      <th>2092</th>\n",
              "      <td>NW MO ➡️ NoVA</td>\n",
              "    </tr>\n",
              "    <tr>\n",
              "      <th>2446</th>\n",
              "      <td>NW MO ➡️ NoVA</td>\n",
              "    </tr>\n",
              "    <tr>\n",
              "      <th>941</th>\n",
              "      <td>Baltimore, Maryland</td>\n",
              "    </tr>\n",
              "    <tr>\n",
              "      <th>2146</th>\n",
              "      <td>Texas</td>\n",
              "    </tr>\n",
              "    <tr>\n",
              "      <th>1322</th>\n",
              "      <td>Aiken, South Carolina, U.S.A.</td>\n",
              "    </tr>\n",
              "    <tr>\n",
              "      <th>...</th>\n",
              "      <td>...</td>\n",
              "    </tr>\n",
              "    <tr>\n",
              "      <th>1054</th>\n",
              "      <td>In the clouds</td>\n",
              "    </tr>\n",
              "    <tr>\n",
              "      <th>727</th>\n",
              "      <td>they/she • 21 • charlie</td>\n",
              "    </tr>\n",
              "    <tr>\n",
              "      <th>829</th>\n",
              "      <td>Cosmopolita</td>\n",
              "    </tr>\n",
              "    <tr>\n",
              "      <th>1976</th>\n",
              "      <td>Brasil</td>\n",
              "    </tr>\n",
              "    <tr>\n",
              "      <th>1967</th>\n",
              "      <td>Omaha, NE</td>\n",
              "    </tr>\n",
              "  </tbody>\n",
              "</table>\n",
              "<p>500 rows × 1 columns</p>\n",
              "</div>\n",
              "      <button class=\"colab-df-convert\" onclick=\"convertToInteractive('df-f04dd507-1f16-4823-b77d-8155a60977c2')\"\n",
              "              title=\"Convert this dataframe to an interactive table.\"\n",
              "              style=\"display:none;\">\n",
              "        \n",
              "  <svg xmlns=\"http://www.w3.org/2000/svg\" height=\"24px\"viewBox=\"0 0 24 24\"\n",
              "       width=\"24px\">\n",
              "    <path d=\"M0 0h24v24H0V0z\" fill=\"none\"/>\n",
              "    <path d=\"M18.56 5.44l.94 2.06.94-2.06 2.06-.94-2.06-.94-.94-2.06-.94 2.06-2.06.94zm-11 1L8.5 8.5l.94-2.06 2.06-.94-2.06-.94L8.5 2.5l-.94 2.06-2.06.94zm10 10l.94 2.06.94-2.06 2.06-.94-2.06-.94-.94-2.06-.94 2.06-2.06.94z\"/><path d=\"M17.41 7.96l-1.37-1.37c-.4-.4-.92-.59-1.43-.59-.52 0-1.04.2-1.43.59L10.3 9.45l-7.72 7.72c-.78.78-.78 2.05 0 2.83L4 21.41c.39.39.9.59 1.41.59.51 0 1.02-.2 1.41-.59l7.78-7.78 2.81-2.81c.8-.78.8-2.07 0-2.86zM5.41 20L4 18.59l7.72-7.72 1.47 1.35L5.41 20z\"/>\n",
              "  </svg>\n",
              "      </button>\n",
              "      \n",
              "  <style>\n",
              "    .colab-df-container {\n",
              "      display:flex;\n",
              "      flex-wrap:wrap;\n",
              "      gap: 12px;\n",
              "    }\n",
              "\n",
              "    .colab-df-convert {\n",
              "      background-color: #E8F0FE;\n",
              "      border: none;\n",
              "      border-radius: 50%;\n",
              "      cursor: pointer;\n",
              "      display: none;\n",
              "      fill: #1967D2;\n",
              "      height: 32px;\n",
              "      padding: 0 0 0 0;\n",
              "      width: 32px;\n",
              "    }\n",
              "\n",
              "    .colab-df-convert:hover {\n",
              "      background-color: #E2EBFA;\n",
              "      box-shadow: 0px 1px 2px rgba(60, 64, 67, 0.3), 0px 1px 3px 1px rgba(60, 64, 67, 0.15);\n",
              "      fill: #174EA6;\n",
              "    }\n",
              "\n",
              "    [theme=dark] .colab-df-convert {\n",
              "      background-color: #3B4455;\n",
              "      fill: #D2E3FC;\n",
              "    }\n",
              "\n",
              "    [theme=dark] .colab-df-convert:hover {\n",
              "      background-color: #434B5C;\n",
              "      box-shadow: 0px 1px 3px 1px rgba(0, 0, 0, 0.15);\n",
              "      filter: drop-shadow(0px 1px 2px rgba(0, 0, 0, 0.3));\n",
              "      fill: #FFFFFF;\n",
              "    }\n",
              "  </style>\n",
              "\n",
              "      <script>\n",
              "        const buttonEl =\n",
              "          document.querySelector('#df-f04dd507-1f16-4823-b77d-8155a60977c2 button.colab-df-convert');\n",
              "        buttonEl.style.display =\n",
              "          google.colab.kernel.accessAllowed ? 'block' : 'none';\n",
              "\n",
              "        async function convertToInteractive(key) {\n",
              "          const element = document.querySelector('#df-f04dd507-1f16-4823-b77d-8155a60977c2');\n",
              "          const dataTable =\n",
              "            await google.colab.kernel.invokeFunction('convertToInteractive',\n",
              "                                                     [key], {});\n",
              "          if (!dataTable) return;\n",
              "\n",
              "          const docLinkHtml = 'Like what you see? Visit the ' +\n",
              "            '<a target=\"_blank\" href=https://colab.research.google.com/notebooks/data_table.ipynb>data table notebook</a>'\n",
              "            + ' to learn more about interactive tables.';\n",
              "          element.innerHTML = '';\n",
              "          dataTable['output_type'] = 'display_data';\n",
              "          await google.colab.output.renderOutput(dataTable, element);\n",
              "          const docLink = document.createElement('div');\n",
              "          docLink.innerHTML = docLinkHtml;\n",
              "          element.appendChild(docLink);\n",
              "        }\n",
              "      </script>\n",
              "    </div>\n",
              "  </div>\n",
              "  "
            ]
          },
          "metadata": {}
        }
      ]
    },
    {
      "cell_type": "code",
      "source": [
        "\n",
        "loc=\"Lagos, Nigeria\"\n",
        "g=geocoder.osm(loc)\n",
        "print(g.lat,g.lng)"
      ],
      "metadata": {
        "colab": {
          "base_uri": "https://localhost:8080/"
        },
        "id": "gt7R4CruMIif",
        "outputId": "0881d47c-d645-416b-f756-06b631411f09"
      },
      "execution_count": null,
      "outputs": [
        {
          "output_type": "stream",
          "name": "stdout",
          "text": [
            "6.4550575 3.3941795\n"
          ]
        }
      ]
    },
    {
      "cell_type": "code",
      "source": [
        "tower=gmplot.GoogleMapPlotter(54.7023545, 54.7023545,18)"
      ],
      "metadata": {
        "id": "jBpu-qJncEDZ"
      },
      "execution_count": null,
      "outputs": []
    },
    {
      "cell_type": "code",
      "source": [
        "tower.draw(\"map.html\")\n",
        "webbrowser.open_new_tab(\"/content/map.html\")"
      ],
      "metadata": {
        "colab": {
          "base_uri": "https://localhost:8080/"
        },
        "id": "FG1m9y5LcYn2",
        "outputId": "7f3ebcdb-847d-41fc-bc2f-3e1f39311a19"
      },
      "execution_count": null,
      "outputs": [
        {
          "output_type": "execute_result",
          "data": {
            "text/plain": [
              "False"
            ]
          },
          "metadata": {},
          "execution_count": 8
        }
      ]
    },
    {
      "cell_type": "code",
      "source": [
        "lat=[39.7837304, 31.2638905,38.9953683,47.6357489,40.4167047,6.7163307,41.509538,34.0234337,37.7884969, 30.19348925,6.4550575 ]\n",
        "lon=[39.7837304,-98.5456116,21.9877132,6.8554011,-3.7035825,6.7163307,-73.9284707,-84.6154897,-122.3558473,-97.66500963529677,3.3941795]\n",
        "tower=gmplot.GoogleMapPlotter(54.7023545, 54.7023545,18)\n",
        "tower.text(53.8160480666409, -3.055329652628019,\"Heatmap by Abubakar\",color='blue')\n",
        "tower.heatmap(lat,lon)\n",
        "tower.draw(\"/content/map.html\")\n",
        "webbrowser.open_new_tab(\"/content/map.html\")\n",
        "\n",
        "print(type(lat))"
      ],
      "metadata": {
        "colab": {
          "base_uri": "https://localhost:8080/"
        },
        "id": "oxAR2SNlegZO",
        "outputId": "fdcbafd7-7d9b-42ea-84a2-65c8108b40e9"
      },
      "execution_count": null,
      "outputs": [
        {
          "output_type": "stream",
          "name": "stdout",
          "text": [
            "<class 'list'>\n"
          ]
        }
      ]
    }
  ]
}